{
 "cells": [
  {
   "cell_type": "markdown",
   "metadata": {},
   "source": [
    "# Portfolio diversification"
   ]
  },
  {
   "cell_type": "markdown",
   "metadata": {},
   "source": [
    "In this notebook I would like to show how portfolio diversification can improve buy&hold strategy performance over a 5-year period."
   ]
  },
  {
   "cell_type": "markdown",
   "metadata": {},
   "source": [
    "## 1. Data"
   ]
  },
  {
   "cell_type": "code",
   "execution_count": 1,
   "metadata": {},
   "outputs": [],
   "source": [
    "#import libraries and magic\n",
    "import pandas as pd\n",
    "from matplotlib import pyplot as plt\n",
    "import scipy.optimize as sco\n",
    "import numpy as np\n",
    "%matplotlib inline"
   ]
  },
  {
   "cell_type": "markdown",
   "metadata": {},
   "source": [
    "We will consider some well-known IT companies and ETFs. All historical data were downloaded from finance.yahoo.com"
   ]
  },
  {
   "cell_type": "code",
   "execution_count": 2,
   "metadata": {},
   "outputs": [],
   "source": [
    "ticker_desc = {'AAPL' : 'Apple Inc.',\n",
    "'AGG' : 'iShares Core U.S. Aggregate Bond ETF',\n",
    "'EMB' : 'iShares J.P. Morgan USD Emerging Markets Bond ETF',\n",
    "'FB' : 'Facebook, Inc.',\n",
    "'GOOGL' : 'Alphabet Inc.',\n",
    "'SCHE' : 'Schwab Emerging Markets Equity ETF',\n",
    "'SPY' : 'SPDR S&P 500 Trust ETF',\n",
    "'VGLT' : 'Vanguard Long-Term Treasury ETF'}"
   ]
  },
  {
   "cell_type": "code",
   "execution_count": 3,
   "metadata": {},
   "outputs": [],
   "source": [
    "df = pd.read_csv('data.csv')"
   ]
  },
  {
   "cell_type": "code",
   "execution_count": 4,
   "metadata": {},
   "outputs": [
    {
     "data": {
      "text/html": [
       "<div>\n",
       "<style scoped>\n",
       "    .dataframe tbody tr th:only-of-type {\n",
       "        vertical-align: middle;\n",
       "    }\n",
       "\n",
       "    .dataframe tbody tr th {\n",
       "        vertical-align: top;\n",
       "    }\n",
       "\n",
       "    .dataframe thead th {\n",
       "        text-align: right;\n",
       "    }\n",
       "</style>\n",
       "<table border=\"1\" class=\"dataframe\">\n",
       "  <thead>\n",
       "    <tr style=\"text-align: right;\">\n",
       "      <th></th>\n",
       "      <th>Date</th>\n",
       "      <th>AAPL</th>\n",
       "      <th>AGG</th>\n",
       "      <th>EMB</th>\n",
       "      <th>FB</th>\n",
       "      <th>GOOGL</th>\n",
       "      <th>SCHE</th>\n",
       "      <th>SPY</th>\n",
       "      <th>VGLT</th>\n",
       "    </tr>\n",
       "  </thead>\n",
       "  <tbody>\n",
       "    <tr>\n",
       "      <td>0</td>\n",
       "      <td>2015-01-02</td>\n",
       "      <td>100.216454</td>\n",
       "      <td>96.557312</td>\n",
       "      <td>84.914139</td>\n",
       "      <td>78.449997</td>\n",
       "      <td>529.549988</td>\n",
       "      <td>20.799383</td>\n",
       "      <td>185.071075</td>\n",
       "      <td>68.333603</td>\n",
       "    </tr>\n",
       "    <tr>\n",
       "      <td>1</td>\n",
       "      <td>2015-01-05</td>\n",
       "      <td>97.393181</td>\n",
       "      <td>96.767136</td>\n",
       "      <td>84.370453</td>\n",
       "      <td>77.190002</td>\n",
       "      <td>519.460022</td>\n",
       "      <td>20.457405</td>\n",
       "      <td>181.728745</td>\n",
       "      <td>69.370911</td>\n",
       "    </tr>\n",
       "    <tr>\n",
       "      <td>2</td>\n",
       "      <td>2015-01-06</td>\n",
       "      <td>97.402374</td>\n",
       "      <td>97.011963</td>\n",
       "      <td>84.106346</td>\n",
       "      <td>76.150002</td>\n",
       "      <td>506.640015</td>\n",
       "      <td>20.360949</td>\n",
       "      <td>180.017090</td>\n",
       "      <td>70.469254</td>\n",
       "    </tr>\n",
       "    <tr>\n",
       "      <td>3</td>\n",
       "      <td>2015-01-07</td>\n",
       "      <td>98.768150</td>\n",
       "      <td>96.994484</td>\n",
       "      <td>85.162704</td>\n",
       "      <td>76.150002</td>\n",
       "      <td>505.149994</td>\n",
       "      <td>20.755539</td>\n",
       "      <td>182.260269</td>\n",
       "      <td>70.321106</td>\n",
       "    </tr>\n",
       "    <tr>\n",
       "      <td>4</td>\n",
       "      <td>2015-01-08</td>\n",
       "      <td>102.563072</td>\n",
       "      <td>96.845802</td>\n",
       "      <td>85.527794</td>\n",
       "      <td>78.180000</td>\n",
       "      <td>506.910004</td>\n",
       "      <td>21.132597</td>\n",
       "      <td>185.494492</td>\n",
       "      <td>69.580109</td>\n",
       "    </tr>\n",
       "    <tr>\n",
       "      <td>...</td>\n",
       "      <td>...</td>\n",
       "      <td>...</td>\n",
       "      <td>...</td>\n",
       "      <td>...</td>\n",
       "      <td>...</td>\n",
       "      <td>...</td>\n",
       "      <td>...</td>\n",
       "      <td>...</td>\n",
       "      <td>...</td>\n",
       "    </tr>\n",
       "    <tr>\n",
       "      <td>1252</td>\n",
       "      <td>2019-12-23</td>\n",
       "      <td>283.327576</td>\n",
       "      <td>111.530540</td>\n",
       "      <td>112.771332</td>\n",
       "      <td>206.179993</td>\n",
       "      <td>1350.630005</td>\n",
       "      <td>27.250000</td>\n",
       "      <td>319.342194</td>\n",
       "      <td>83.163963</td>\n",
       "    </tr>\n",
       "    <tr>\n",
       "      <td>1253</td>\n",
       "      <td>2019-12-24</td>\n",
       "      <td>283.596924</td>\n",
       "      <td>111.669670</td>\n",
       "      <td>112.969040</td>\n",
       "      <td>205.119995</td>\n",
       "      <td>1344.430054</td>\n",
       "      <td>27.240000</td>\n",
       "      <td>319.352142</td>\n",
       "      <td>83.482346</td>\n",
       "    </tr>\n",
       "    <tr>\n",
       "      <td>1254</td>\n",
       "      <td>2019-12-26</td>\n",
       "      <td>289.223602</td>\n",
       "      <td>111.769035</td>\n",
       "      <td>113.127220</td>\n",
       "      <td>207.789993</td>\n",
       "      <td>1362.469971</td>\n",
       "      <td>27.430000</td>\n",
       "      <td>321.052124</td>\n",
       "      <td>83.631577</td>\n",
       "    </tr>\n",
       "    <tr>\n",
       "      <td>1255</td>\n",
       "      <td>2019-12-27</td>\n",
       "      <td>289.113831</td>\n",
       "      <td>111.918083</td>\n",
       "      <td>113.433701</td>\n",
       "      <td>208.100006</td>\n",
       "      <td>1354.640015</td>\n",
       "      <td>27.510000</td>\n",
       "      <td>320.972565</td>\n",
       "      <td>83.750969</td>\n",
       "    </tr>\n",
       "    <tr>\n",
       "      <td>1256</td>\n",
       "      <td>2019-12-30</td>\n",
       "      <td>290.829773</td>\n",
       "      <td>111.918083</td>\n",
       "      <td>113.245865</td>\n",
       "      <td>204.410004</td>\n",
       "      <td>1339.709961</td>\n",
       "      <td>27.360001</td>\n",
       "      <td>319.202972</td>\n",
       "      <td>83.492279</td>\n",
       "    </tr>\n",
       "  </tbody>\n",
       "</table>\n",
       "<p>1257 rows × 9 columns</p>\n",
       "</div>"
      ],
      "text/plain": [
       "            Date        AAPL         AGG         EMB          FB        GOOGL  \\\n",
       "0     2015-01-02  100.216454   96.557312   84.914139   78.449997   529.549988   \n",
       "1     2015-01-05   97.393181   96.767136   84.370453   77.190002   519.460022   \n",
       "2     2015-01-06   97.402374   97.011963   84.106346   76.150002   506.640015   \n",
       "3     2015-01-07   98.768150   96.994484   85.162704   76.150002   505.149994   \n",
       "4     2015-01-08  102.563072   96.845802   85.527794   78.180000   506.910004   \n",
       "...          ...         ...         ...         ...         ...          ...   \n",
       "1252  2019-12-23  283.327576  111.530540  112.771332  206.179993  1350.630005   \n",
       "1253  2019-12-24  283.596924  111.669670  112.969040  205.119995  1344.430054   \n",
       "1254  2019-12-26  289.223602  111.769035  113.127220  207.789993  1362.469971   \n",
       "1255  2019-12-27  289.113831  111.918083  113.433701  208.100006  1354.640015   \n",
       "1256  2019-12-30  290.829773  111.918083  113.245865  204.410004  1339.709961   \n",
       "\n",
       "           SCHE         SPY       VGLT  \n",
       "0     20.799383  185.071075  68.333603  \n",
       "1     20.457405  181.728745  69.370911  \n",
       "2     20.360949  180.017090  70.469254  \n",
       "3     20.755539  182.260269  70.321106  \n",
       "4     21.132597  185.494492  69.580109  \n",
       "...         ...         ...        ...  \n",
       "1252  27.250000  319.342194  83.163963  \n",
       "1253  27.240000  319.352142  83.482346  \n",
       "1254  27.430000  321.052124  83.631577  \n",
       "1255  27.510000  320.972565  83.750969  \n",
       "1256  27.360001  319.202972  83.492279  \n",
       "\n",
       "[1257 rows x 9 columns]"
      ]
     },
     "execution_count": 4,
     "metadata": {},
     "output_type": "execute_result"
    }
   ],
   "source": [
    "df"
   ]
  },
  {
   "cell_type": "markdown",
   "metadata": {},
   "source": [
    "## 2. Calculating cumulative return"
   ]
  },
  {
   "cell_type": "markdown",
   "metadata": {},
   "source": [
    "Let's assume that you had $10,000 back to 2015 and you wanted to invest it with highest return. You could invest it in the big it companies like Apple, Google or Facebook. By the end of 2019 your investment would be (without taxes):"
   ]
  },
  {
   "cell_type": "code",
   "execution_count": 6,
   "metadata": {},
   "outputs": [],
   "source": [
    "init_investment = 10000\n",
    "def calc_5y_return(ticker):\n",
    "    first_price = df[ticker].iloc[0]\n",
    "    last_price = df[ticker].iloc[-1]\n",
    "    return round(init_investment* (last_price - first_price) / first_price, 2)"
   ]
  },
  {
   "cell_type": "code",
   "execution_count": 7,
   "metadata": {},
   "outputs": [
    {
     "data": {
      "text/plain": [
       "19020.16"
      ]
     },
     "execution_count": 7,
     "metadata": {},
     "output_type": "execute_result"
    }
   ],
   "source": [
    "calc_5y_return('AAPL')"
   ]
  },
  {
   "cell_type": "code",
   "execution_count": 8,
   "metadata": {},
   "outputs": [
    {
     "data": {
      "text/plain": [
       "15299.03"
      ]
     },
     "execution_count": 8,
     "metadata": {},
     "output_type": "execute_result"
    }
   ],
   "source": [
    "calc_5y_return('GOOGL')"
   ]
  },
  {
   "cell_type": "code",
   "execution_count": 9,
   "metadata": {},
   "outputs": [
    {
     "data": {
      "text/plain": [
       "16056.09"
      ]
     },
     "execution_count": 9,
     "metadata": {},
     "output_type": "execute_result"
    }
   ],
   "source": [
    "calc_5y_return('FB')"
   ]
  },
  {
   "cell_type": "markdown",
   "metadata": {},
   "source": [
    "It looks very good. In case of investing in Apple you earned \\\\$1.9 for each \\\\$1 you invested in 2015."
   ]
  },
  {
   "cell_type": "markdown",
   "metadata": {},
   "source": [
    "## 3. Risk measurement"
   ]
  },
  {
   "cell_type": "markdown",
   "metadata": {},
   "source": [
    "There are various risk measurements, such as standard deviation, beta, etc. I will calculate maximum drawdown which represents the maximum observed loss from a peak to a trough of an investment, before a new peak is attained. In other words max drawdown is a delta between a local maximum and a local minimum of an equity price."
   ]
  },
  {
   "cell_type": "code",
   "execution_count": 11,
   "metadata": {},
   "outputs": [
    {
     "data": {
      "image/png": "[encoded data removed]",
      "text/plain": [
       "<Figure size 648x432 with 1 Axes>"
      ]
     },
     "metadata": {
      "needs_background": "light"
     },
     "output_type": "display_data"
    }
   ],
   "source": [
    "fig, ax = plt.subplots(figsize=(9, 6))\n",
    "ax.plot('AAPL', data=df)\n",
    "ax.hlines(229, xmin = 900, xmax = 1000, colors ='red')\n",
    "ax.hlines(138, xmin = 950, xmax = 1050, colors ='red')\n",
    "plt.title('Max drawdown for AAPL')\n",
    "plt.show()"
   ]
  },
  {
   "cell_type": "code",
   "execution_count": 12,
   "metadata": {},
   "outputs": [],
   "source": [
    "def max_5y_drawdown(ticker):\n",
    "    num_shares = init_investment / df[ticker].iloc[0]\n",
    "    max_val = 0\n",
    "    max_dd = 0\n",
    "    loc_min = 0\n",
    "    loc_max = 0\n",
    "    for elem in df[ticker]:\n",
    "        if elem > max_val:\n",
    "            max_val = elem\n",
    "        cur_dd = max_val - elem\n",
    "        if cur_dd > max_dd:\n",
    "            max_dd = cur_dd\n",
    "            loc_max = max_val\n",
    "            loc_min = elem\n",
    "    portfolio_loc_max = num_shares * loc_max\n",
    "    portfolio_loc_min = num_shares * loc_min\n",
    "    return portfolio_loc_max, portfolio_loc_min, (loc_min - loc_max)/loc_min"
   ]
  },
  {
   "cell_type": "code",
   "execution_count": 46,
   "metadata": {},
   "outputs": [
    {
     "name": "stdout",
     "output_type": "stream",
     "text": [
      "loc_max = 22680.94, loc_min = 13945.17, max_dd = -62.64%\n"
     ]
    }
   ],
   "source": [
    "res = max_5y_drawdown('AAPL')\n",
    "print('loc_max = {0:.2f}, loc_min = {1:.2f}, max_dd = {2:.2%}'.format(res[0], res[1], res[2]))"
   ]
  },
  {
   "cell_type": "code",
   "execution_count": 47,
   "metadata": {},
   "outputs": [
    {
     "name": "stdout",
     "output_type": "stream",
     "text": [
      "loc_max = 24275.33, loc_min = 18594.47, max_dd = -30.55%\n"
     ]
    }
   ],
   "source": [
    "res = max_5y_drawdown('GOOGL')\n",
    "print('loc_max = {0:.2f}, loc_min = {1:.2f}, max_dd = {2:.2%}'.format(res[0], res[1], res[2]))"
   ]
  },
  {
   "cell_type": "code",
   "execution_count": 48,
   "metadata": {},
   "outputs": [
    {
     "name": "stdout",
     "output_type": "stream",
     "text": [
      "loc_max = 27724.67, loc_min = 15813.89, max_dd = -75.32%\n"
     ]
    }
   ],
   "source": [
    "res = max_5y_drawdown('FB')\n",
    "print('loc_max = {0:.2f}, loc_min = {1:.2f}, max_dd = {2:.2%}'.format(res[0], res[1], res[2]))"
   ]
  },
  {
   "cell_type": "markdown",
   "metadata": {},
   "source": [
    "In case of investment in Apple you could loose almost $9k or -62% of your portfolio during this price falling."
   ]
  },
  {
   "cell_type": "markdown",
   "metadata": {},
   "source": [
    "## 4. Investing in ETF "
   ]
  },
  {
   "cell_type": "markdown",
   "metadata": {},
   "source": [
    "### 4.1. Stock ETF"
   ]
  },
  {
   "cell_type": "markdown",
   "metadata": {},
   "source": [
    "ETF stands for Exchange traded fund, it usually tracks an stock or bond index which represents a broad variety of issuers including souveregns. E.g. SPY ETF tracks S&P 500 index."
   ]
  },
  {
   "cell_type": "code",
   "execution_count": 52,
   "metadata": {},
   "outputs": [
    {
     "data": {
      "text/plain": [
       "7247.59"
      ]
     },
     "execution_count": 52,
     "metadata": {},
     "output_type": "execute_result"
    }
   ],
   "source": [
    "calc_5y_return('SPY')"
   ]
  },
  {
   "cell_type": "code",
   "execution_count": 53,
   "metadata": {},
   "outputs": [
    {
     "name": "stdout",
     "output_type": "stream",
     "text": [
      "loc_max = 15318.09, loc_min = 12354.20, max_dd = -23.99%\n"
     ]
    }
   ],
   "source": [
    "res = max_5y_drawdown('SPY')\n",
    "print('loc_max = {0:.2f}, loc_min = {1:.2f}, max_dd = {2:.2%}'.format(res[0], res[1], res[2]))"
   ]
  },
  {
   "cell_type": "markdown",
   "metadata": {},
   "source": [
    "So you will earn 7247.59 that less than investment in IT-giants, but form the other side max drawdown will be around -24%."
   ]
  },
  {
   "cell_type": "markdown",
   "metadata": {},
   "source": [
    "### 4.2. Bond ETF"
   ]
  },
  {
   "cell_type": "markdown",
   "metadata": {},
   "source": [
    "For conservative investors there are ETF which tracks bonds or other fxed income market's instruments. E.g. AGG ETF contains 42% of US Treasury, 12% of Federal National Mortgage Association, etc.\t"
   ]
  },
  {
   "cell_type": "code",
   "execution_count": 60,
   "metadata": {},
   "outputs": [
    {
     "data": {
      "text/plain": [
       "1590.84"
      ]
     },
     "execution_count": 60,
     "metadata": {},
     "output_type": "execute_result"
    }
   ],
   "source": [
    "calc_5y_return('AGG')"
   ]
  },
  {
   "cell_type": "code",
   "execution_count": 61,
   "metadata": {},
   "outputs": [
    {
     "name": "stdout",
     "output_type": "stream",
     "text": [
      "loc_max = 10630.75, loc_min = 10152.72, max_dd = -4.71%\n"
     ]
    }
   ],
   "source": [
    "res = max_5y_drawdown('AGG')\n",
    "print('loc_max = {0:.2f}, loc_min = {1:.2f}, max_dd = {2:.2%}'.format(res[0], res[1], res[2]))"
   ]
  },
  {
   "cell_type": "markdown",
   "metadata": {},
   "source": [
    "In this case your income is the smallest, but drawdown is also the smallest among other cases"
   ]
  },
  {
   "cell_type": "markdown",
   "metadata": {},
   "source": [
    "## 5. Combining stocks and bonds"
   ]
  },
  {
   "cell_type": "markdown",
   "metadata": {},
   "source": [
    "So how to gain both high return and low risk? The answer is a portfolio diversification. For example if an investor wants to invest in AAPL, GOOGL and FB he/she need to determine how much to invest in each equity (it's also called weight). Let's consider an investor picked to invest 50% in AAPL, 30% in GOOGL and 20% in FB."
   ]
  },
  {
   "cell_type": "code",
   "execution_count": 67,
   "metadata": {},
   "outputs": [],
   "source": [
    "df['PORT1'] = 0.5*df['AAPL'] + 0.3*df['GOOGL'] + 0.2*df['FB']"
   ]
  },
  {
   "cell_type": "code",
   "execution_count": 68,
   "metadata": {},
   "outputs": [
    {
     "data": {
      "text/plain": [
       "16181.85"
      ]
     },
     "execution_count": 68,
     "metadata": {},
     "output_type": "execute_result"
    }
   ],
   "source": [
    "calc_5y_return('PORT1')"
   ]
  },
  {
   "cell_type": "code",
   "execution_count": 69,
   "metadata": {},
   "outputs": [
    {
     "name": "stdout",
     "output_type": "stream",
     "text": [
      "loc_max = 23313.72, loc_min = 17464.81, max_dd = -33.49%\n"
     ]
    }
   ],
   "source": [
    "res = max_5y_drawdown('PORT1')\n",
    "print('loc_max = {0:.2f}, loc_min = {1:.2f}, max_dd = {2:.2%}'.format(res[0], res[1], res[2]))"
   ]
  },
  {
   "cell_type": "markdown",
   "metadata": {},
   "source": [
    "As you can see return ($16 181.85) is higher than return in GOOGL or FB, not AAPL. On other hand max drawdown (-33.49%) is lower than max drawdown for AAPL and FB, not GOOGL."
   ]
  },
  {
   "cell_type": "markdown",
   "metadata": {},
   "source": [
    "Ok, what if an investor would like to add some fixed income market's instruments to his/her portfolio? Let's consider following: 40% AAPL, 30% GOOGL, 20% FB and 30% AGG. "
   ]
  },
  {
   "cell_type": "code",
   "execution_count": 81,
   "metadata": {},
   "outputs": [],
   "source": [
    "df['PORT2'] = 0.4*df['AAPL'] + 0.2*df['GOOGL'] + 0.1*df['FB'] + 0.3*df['AGG']"
   ]
  },
  {
   "cell_type": "code",
   "execution_count": 82,
   "metadata": {},
   "outputs": [
    {
     "data": {
      "text/plain": [
       "13975.34"
      ]
     },
     "execution_count": 82,
     "metadata": {},
     "output_type": "execute_result"
    }
   ],
   "source": [
    "calc_5y_return('PORT2')"
   ]
  },
  {
   "cell_type": "code",
   "execution_count": 83,
   "metadata": {},
   "outputs": [
    {
     "name": "stdout",
     "output_type": "stream",
     "text": [
      "loc_max = 21241.06, loc_min = 16288.56, max_dd = -30.40%\n"
     ]
    }
   ],
   "source": [
    "res = max_5y_drawdown('PORT2')\n",
    "print('loc_max = {0:.2f}, loc_min = {1:.2f}, max_dd = {2:.2%}'.format(res[0], res[1], res[2]))"
   ]
  },
  {
   "cell_type": "markdown",
   "metadata": {},
   "source": [
    "We got $13975.34 as return and -30.40% which indicates that this porfolio is less profitable and less risky than portfolio of stocks only."
   ]
  },
  {
   "cell_type": "markdown",
   "metadata": {},
   "source": [
    "## 6. Calculating weights"
   ]
  },
  {
   "cell_type": "markdown",
   "metadata": {},
   "source": [
    "To calculate weight we can use a Modern portfolio theory to maximize expected return for a given level of risk. To estimate return we will use annual return, for the risk - return's annual standard deviation. A risk-return scatter plot allows us to find an optimum portfolio of AAPL, GOOGL and FB."
   ]
  },
  {
   "cell_type": "markdown",
   "metadata": {},
   "source": [
    "### 6.1. Loop weights' combinations"
   ]
  },
  {
   "cell_type": "markdown",
   "metadata": {},
   "source": [
    "Let's loop every possible weight combination for 3 equities:"
   ]
  },
  {
   "cell_type": "code",
   "execution_count": 87,
   "metadata": {},
   "outputs": [
    {
     "data": {
      "text/plain": [
       "5151"
      ]
     },
     "execution_count": 87,
     "metadata": {},
     "output_type": "execute_result"
    }
   ],
   "source": [
    "weights = []\n",
    "for i in range(101):\n",
    "    for j in range(101):\n",
    "        k = max(0, 100 - (i+j))\n",
    "        if (i+j+k)==100:\n",
    "            weights.append([i/100, j/100, k/100])\n",
    "len(weights)"
   ]
  },
  {
   "cell_type": "markdown",
   "metadata": {},
   "source": [
    "For all weight combinations let's calculate annualized risk and return: "
   ]
  },
  {
   "cell_type": "code",
   "execution_count": 97,
   "metadata": {},
   "outputs": [],
   "source": [
    "an_ret = []\n",
    "an_std = []\n",
    "for w in weights:\n",
    "    portf = w[0]*df['AAPL'] + w[1]*df['GOOGL']+w[2]*df['FB']\n",
    "    an_ret.append(portf.pct_change().mean()*252)\n",
    "    an_std.append(np.std(portf.pct_change()) * np.sqrt(252))"
   ]
  },
  {
   "cell_type": "markdown",
   "metadata": {},
   "source": [
    "Scatter plot will look like a hyperbola:"
   ]
  },
  {
   "cell_type": "code",
   "execution_count": 95,
   "metadata": {},
   "outputs": [
    {
     "data": {
      "text/plain": [
       "Text(0, 0.5, 'Return')"
      ]
     },
     "execution_count": 95,
     "metadata": {},
     "output_type": "execute_result"
    },
    {
     "data": {
      "image/png": "[encoded data removed]",
      "text/plain": [
       "<Figure size 648x432 with 1 Axes>"
      ]
     },
     "metadata": {
      "needs_background": "light"
     },
     "output_type": "display_data"
    }
   ],
   "source": [
    "fig, ax = plt.subplots(figsize=(9, 6))\n",
    "ax.scatter(an_std,an_ret,marker='o',s=10)\n",
    "ax.set_xlabel('St. Deviation / Risk')\n",
    "ax.set_ylabel('Return')"
   ]
  },
  {
   "cell_type": "markdown",
   "metadata": {},
   "source": [
    "To find an efficient portfolio we need to find a portfolio with maximum return for a given level of risk. This way an efficient portfolio has to be in upper frontier of the hyperbola. We can use Sharpe Ratio to define an efficient portfolio."
   ]
  },
  {
   "cell_type": "markdown",
   "metadata": {},
   "source": [
    "To calculate Sharpe ratio we use following formula: $S_p = \\frac{R_p - R_f}{\\sigma_p}$, where $R_p$ - estimated return, $R_f$ - risk free rate and $\\sigma_p$ - portfolio st. deviation"
   ]
  },
  {
   "cell_type": "code",
   "execution_count": 99,
   "metadata": {},
   "outputs": [
    {
     "data": {
      "text/plain": [
       "4780"
      ]
     },
     "execution_count": 99,
     "metadata": {},
     "output_type": "execute_result"
    }
   ],
   "source": [
    "rf = 1.61e-2\n",
    "# source - https://www.treasury.gov/resource-center/data-chart-center/interest-rates/Pages/TextView.aspx?data=yield\n",
    "max_ar_av = 0\n",
    "indx = 0\n",
    "i=0\n",
    "for av, ar in zip(an_vol, an_ret):\n",
    "    if (ar-rf)/av > max_ar_av:\n",
    "        max_ar_av = (ar-rf)/av\n",
    "        indx = i\n",
    "    i+=1\n",
    "indx"
   ]
  },
  {
   "cell_type": "code",
   "execution_count": 706,
   "metadata": {},
   "outputs": [
    {
     "data": {
      "text/plain": [
       "[0.74, 0.07, 0.19]"
      ]
     },
     "execution_count": 706,
     "metadata": {},
     "output_type": "execute_result"
    }
   ],
   "source": [
    "weights[4780]"
   ]
  },
  {
   "cell_type": "markdown",
   "metadata": {},
   "source": [
    "We found an efficient portfolio with 74% of AAPL, 7% of GOOGL and 19% of FB:"
   ]
  },
  {
   "cell_type": "code",
   "execution_count": 100,
   "metadata": {},
   "outputs": [],
   "source": [
    "df['PORT3'] = 0.74*df['AAPL'] + 0.07*df['GOOGL'] + 0.19*df['FB']"
   ]
  },
  {
   "cell_type": "code",
   "execution_count": 101,
   "metadata": {},
   "outputs": [
    {
     "data": {
      "text/plain": [
       "17576.32"
      ]
     },
     "execution_count": 101,
     "metadata": {},
     "output_type": "execute_result"
    }
   ],
   "source": [
    "calc_5y_return('PORT3')"
   ]
  },
  {
   "cell_type": "code",
   "execution_count": 102,
   "metadata": {},
   "outputs": [
    {
     "name": "stdout",
     "output_type": "stream",
     "text": [
      "loc_max = 22568.20, loc_min = 15799.90, max_dd = -42.84%\n"
     ]
    }
   ],
   "source": [
    "res = max_5y_drawdown('PORT3')\n",
    "print('loc_max = {0:.2f}, loc_min = {1:.2f}, max_dd = {2:.2%}'.format(res[0], res[1], res[2]))"
   ]
  },
  {
   "cell_type": "markdown",
   "metadata": {},
   "source": [
    "To mark this portfolio in the hyperbola let's calculate annualized risk and return"
   ]
  },
  {
   "cell_type": "code",
   "execution_count": 103,
   "metadata": {},
   "outputs": [],
   "source": [
    "ret_p = df['PORT3'].pct_change().mean()*252\n",
    "std_p = np.std(df['PORT3'].pct_change()) * np.sqrt(252)"
   ]
  },
  {
   "cell_type": "code",
   "execution_count": 104,
   "metadata": {},
   "outputs": [
    {
     "data": {
      "text/plain": [
       "<matplotlib.collections.PathCollection at 0x101f195310>"
      ]
     },
     "execution_count": 104,
     "metadata": {},
     "output_type": "execute_result"
    },
    {
     "data": {
      "image/png": "[encoded data removed]",
      "text/plain": [
       "<Figure size 648x432 with 1 Axes>"
      ]
     },
     "metadata": {
      "needs_background": "light"
     },
     "output_type": "display_data"
    }
   ],
   "source": [
    "fig, ax = plt.subplots(figsize=(9, 6))\n",
    "ax.scatter(an_vol,an_ret,marker='o',s=10)\n",
    "ax.scatter(std_p,ret_p,marker='*',color='r',s=100, label='Maximum Sharpe ratio')"
   ]
  },
  {
   "cell_type": "markdown",
   "metadata": {},
   "source": [
    "### 6.2. Using optimization function"
   ]
  },
  {
   "cell_type": "markdown",
   "metadata": {},
   "source": [
    "Instead of looping all possible weights' combinations we can use scipy.optimize library to maximize Sharpe Ratio or minimize negative Sharpe Ratio:"
   ]
  },
  {
   "cell_type": "code",
   "execution_count": 114,
   "metadata": {},
   "outputs": [],
   "source": [
    "def annualized_performance(weights, df_price):\n",
    "    returns = pd.Series(np.dot(df_price, weights))\n",
    "    ret_chngs = (returns - returns.shift(1))/returns.shift(1)\n",
    "    an_ret = ret_chngs.mean()*252\n",
    "    an_std = np.std(ret_chngs)*np.sqrt(252)\n",
    "    return an_ret, an_std"
   ]
  },
  {
   "cell_type": "code",
   "execution_count": 115,
   "metadata": {},
   "outputs": [],
   "source": [
    "def neg_sharpe_ratio(weights, df_price):\n",
    "    p_ret, p_std = annualized_performance(weights, df_price)\n",
    "    return -(p_ret - rf) / p_std"
   ]
  },
  {
   "cell_type": "code",
   "execution_count": 116,
   "metadata": {},
   "outputs": [],
   "source": [
    "def max_sharpe_ratio(df_price):\n",
    "    num_assets = df_price.shape[1]\n",
    "    args = (df_price)\n",
    "    constraints = ({'type': 'eq', 'fun': lambda x: np.sum(x) - 1})\n",
    "    bound = (0.0, 1.0)\n",
    "    bounds = tuple(bound for asset in range(num_assets))\n",
    "    result = sco.minimize(neg_sharpe_ratio, num_assets*[1./num_assets], args=args,\n",
    "                        method='SLSQP', bounds=bounds, constraints=constraints)\n",
    "    return result"
   ]
  },
  {
   "cell_type": "code",
   "execution_count": 117,
   "metadata": {},
   "outputs": [],
   "source": [
    "max_sharpe = max_sharpe_ratio(df[['AAPL','GOOGL','FB']])"
   ]
  },
  {
   "cell_type": "code",
   "execution_count": 120,
   "metadata": {},
   "outputs": [
    {
     "name": "stdout",
     "output_type": "stream",
     "text": [
      "Optimum portfolio weights:  [0.7414428  0.07375766 0.18479955]\n"
     ]
    }
   ],
   "source": [
    "print('Optimum portfolio weights: ', max_sharpe['x'])"
   ]
  }
 ],
 "metadata": {
  "kernelspec": {
   "display_name": "Python 3",
   "language": "python",
   "name": "python3"
  },
  "language_info": {
   "codemirror_mode": {
    "name": "ipython",
    "version": 3
   },
   "file_extension": ".py",
   "mimetype": "text/x-python",
   "name": "python",
   "nbconvert_exporter": "python",
   "pygments_lexer": "ipython3",
   "version": "3.7.4"
  }
 },
 "nbformat": 4,
 "nbformat_minor": 2
}
